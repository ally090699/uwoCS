{
 "cells": [
  {
   "cell_type": "markdown",
   "metadata": {},
   "source": [
    "# Assignment 3: Classification with Logistic Regression\n",
    "\n",
    "# Total: /100\n",
    "\n",
    "## Instructions\n",
    "\n",
    "* Complete the assignment\n",
    "\n",
    "* Once the notebook is complete, restart your kernel and rerun your cells\n",
    "\n",
    "* Submit this notebook to owl by the deadline\n",
    "\n",
    "* You may use any python library functions you wish to complete the assignment.\n",
    "\n",
    "## The Dataset\n",
    "\n",
    "The dataset is publically available on the Kaggle website, and it is from an ongoing cardiovascular study on residents of the town of Framingham, Massachusetts. The classification goal is to predict whether the patient develops coronary heart disease (CHD) within a 10-year period.The dataset provides the patients’ information. It includes over 4,000 records and 15 attributes.\n",
    "\n",
    "You can read more about the data and the variables [here](https://www.kaggle.com/datasets/dileep070/heart-disease-prediction-using-logistic-regression)."
   ]
  },
  {
   "cell_type": "code",
   "execution_count": 3,
   "metadata": {},
   "outputs": [],
   "source": [
    "# You may need these\n",
    "import pandas as pd\n",
    "import seaborn as sns\n",
    "import numpy as np\n",
    "from sklearn.model_selection import train_test_split\n",
    "from sklearn.linear_model import LogisticRegression\n",
    "from sklearn.metrics import confusion_matrix, roc_curve, precision_recall_curve, auc\n",
    "\n",
    "\n",
    "import matplotlib.pyplot as plt\n",
    "%matplotlib inline"
   ]
  },
  {
   "cell_type": "markdown",
   "metadata": {},
   "source": [
    "## Question 1: /5 pts\n",
    "\n",
    "Read in the `creditcard.csv` dataset and display the first 5 rows.\n"
   ]
  },
  {
   "cell_type": "code",
   "execution_count": 4,
   "metadata": {},
   "outputs": [
    {
     "data": {
      "text/html": [
       "<div>\n",
       "<style scoped>\n",
       "    .dataframe tbody tr th:only-of-type {\n",
       "        vertical-align: middle;\n",
       "    }\n",
       "\n",
       "    .dataframe tbody tr th {\n",
       "        vertical-align: top;\n",
       "    }\n",
       "\n",
       "    .dataframe thead th {\n",
       "        text-align: right;\n",
       "    }\n",
       "</style>\n",
       "<table border=\"1\" class=\"dataframe\">\n",
       "  <thead>\n",
       "    <tr style=\"text-align: right;\">\n",
       "      <th></th>\n",
       "      <th>male</th>\n",
       "      <th>age</th>\n",
       "      <th>education</th>\n",
       "      <th>currentSmoker</th>\n",
       "      <th>cigsPerDay</th>\n",
       "      <th>BPMeds</th>\n",
       "      <th>prevalentStroke</th>\n",
       "      <th>prevalentHyp</th>\n",
       "      <th>diabetes</th>\n",
       "      <th>totChol</th>\n",
       "      <th>sysBP</th>\n",
       "      <th>diaBP</th>\n",
       "      <th>BMI</th>\n",
       "      <th>heartRate</th>\n",
       "      <th>glucose</th>\n",
       "      <th>TenYearCHD</th>\n",
       "    </tr>\n",
       "  </thead>\n",
       "  <tbody>\n",
       "    <tr>\n",
       "      <th>0</th>\n",
       "      <td>1</td>\n",
       "      <td>39</td>\n",
       "      <td>4.0</td>\n",
       "      <td>0</td>\n",
       "      <td>0.0</td>\n",
       "      <td>0.0</td>\n",
       "      <td>0</td>\n",
       "      <td>0</td>\n",
       "      <td>0</td>\n",
       "      <td>195.0</td>\n",
       "      <td>106.0</td>\n",
       "      <td>70.0</td>\n",
       "      <td>26.97</td>\n",
       "      <td>80.0</td>\n",
       "      <td>77.0</td>\n",
       "      <td>0</td>\n",
       "    </tr>\n",
       "    <tr>\n",
       "      <th>1</th>\n",
       "      <td>0</td>\n",
       "      <td>46</td>\n",
       "      <td>2.0</td>\n",
       "      <td>0</td>\n",
       "      <td>0.0</td>\n",
       "      <td>0.0</td>\n",
       "      <td>0</td>\n",
       "      <td>0</td>\n",
       "      <td>0</td>\n",
       "      <td>250.0</td>\n",
       "      <td>121.0</td>\n",
       "      <td>81.0</td>\n",
       "      <td>28.73</td>\n",
       "      <td>95.0</td>\n",
       "      <td>76.0</td>\n",
       "      <td>0</td>\n",
       "    </tr>\n",
       "    <tr>\n",
       "      <th>2</th>\n",
       "      <td>1</td>\n",
       "      <td>48</td>\n",
       "      <td>1.0</td>\n",
       "      <td>1</td>\n",
       "      <td>20.0</td>\n",
       "      <td>0.0</td>\n",
       "      <td>0</td>\n",
       "      <td>0</td>\n",
       "      <td>0</td>\n",
       "      <td>245.0</td>\n",
       "      <td>127.5</td>\n",
       "      <td>80.0</td>\n",
       "      <td>25.34</td>\n",
       "      <td>75.0</td>\n",
       "      <td>70.0</td>\n",
       "      <td>0</td>\n",
       "    </tr>\n",
       "    <tr>\n",
       "      <th>3</th>\n",
       "      <td>0</td>\n",
       "      <td>61</td>\n",
       "      <td>3.0</td>\n",
       "      <td>1</td>\n",
       "      <td>30.0</td>\n",
       "      <td>0.0</td>\n",
       "      <td>0</td>\n",
       "      <td>1</td>\n",
       "      <td>0</td>\n",
       "      <td>225.0</td>\n",
       "      <td>150.0</td>\n",
       "      <td>95.0</td>\n",
       "      <td>28.58</td>\n",
       "      <td>65.0</td>\n",
       "      <td>103.0</td>\n",
       "      <td>1</td>\n",
       "    </tr>\n",
       "    <tr>\n",
       "      <th>4</th>\n",
       "      <td>0</td>\n",
       "      <td>46</td>\n",
       "      <td>3.0</td>\n",
       "      <td>1</td>\n",
       "      <td>23.0</td>\n",
       "      <td>0.0</td>\n",
       "      <td>0</td>\n",
       "      <td>0</td>\n",
       "      <td>0</td>\n",
       "      <td>285.0</td>\n",
       "      <td>130.0</td>\n",
       "      <td>84.0</td>\n",
       "      <td>23.10</td>\n",
       "      <td>85.0</td>\n",
       "      <td>85.0</td>\n",
       "      <td>0</td>\n",
       "    </tr>\n",
       "  </tbody>\n",
       "</table>\n",
       "</div>"
      ],
      "text/plain": [
       "   male  age  education  currentSmoker  cigsPerDay  BPMeds  prevalentStroke  \\\n",
       "0     1   39        4.0              0         0.0     0.0                0   \n",
       "1     0   46        2.0              0         0.0     0.0                0   \n",
       "2     1   48        1.0              1        20.0     0.0                0   \n",
       "3     0   61        3.0              1        30.0     0.0                0   \n",
       "4     0   46        3.0              1        23.0     0.0                0   \n",
       "\n",
       "   prevalentHyp  diabetes  totChol  sysBP  diaBP    BMI  heartRate  glucose  \\\n",
       "0             0         0    195.0  106.0   70.0  26.97       80.0     77.0   \n",
       "1             0         0    250.0  121.0   81.0  28.73       95.0     76.0   \n",
       "2             0         0    245.0  127.5   80.0  25.34       75.0     70.0   \n",
       "3             1         0    225.0  150.0   95.0  28.58       65.0    103.0   \n",
       "4             0         0    285.0  130.0   84.0  23.10       85.0     85.0   \n",
       "\n",
       "   TenYearCHD  \n",
       "0           0  \n",
       "1           0  \n",
       "2           0  \n",
       "3           1  \n",
       "4           0  "
      ]
     },
     "execution_count": 4,
     "metadata": {},
     "output_type": "execute_result"
    }
   ],
   "source": [
    "# Question 1 code here\n",
    "df = pd.read_csv('framingham.csv').dropna()\n",
    "# For this assignment, we are dropping any rows that have missing data.\n",
    "# THIS IS GENERALLY A BAD IDEA. We will discuss alternatives later in the course.\n",
    "\n",
    "# Code below to display first 5 rows\n",
    "df.head()"
   ]
  },
  {
   "cell_type": "markdown",
   "metadata": {},
   "source": [
    "## Question 2: /5 pts\n",
    "\n",
    "Then split the data into train and test for the outcome/response and the predictor variables. Hold out 50% of observations as the test set.  Pass `random_state=0` to `train_test_split` to ensure you get the same train and tests sets as the official assignment solution."
   ]
  },
  {
   "cell_type": "code",
   "execution_count": 5,
   "metadata": {},
   "outputs": [
    {
     "name": "stdout",
     "output_type": "stream",
     "text": [
      "   male  age  education currentSmoker  cigsPerDay  BPMeds  prevalentStroke  \\\n",
      "0     1   39        4.0             0         0.0     0.0                0   \n",
      "1     0   46        2.0             0         0.0     0.0                0   \n",
      "2     1   48        1.0             F        20.0     0.0                0   \n",
      "3     0   61        3.0             F        30.0     0.0                0   \n",
      "4     0   46        3.0             F        23.0     0.0                0   \n",
      "\n",
      "   prevalentHyp  diabetes  totChol  sysBP  diaBP    BMI  heartRate  glucose  \\\n",
      "0             0         0    195.0  106.0   70.0  26.97       80.0     77.0   \n",
      "1             0         0    250.0  121.0   81.0  28.73       95.0     76.0   \n",
      "2             0         0    245.0  127.5   80.0  25.34       75.0     70.0   \n",
      "3             1         0    225.0  150.0   95.0  28.58       65.0    103.0   \n",
      "4             0         0    285.0  130.0   84.0  23.10       85.0     85.0   \n",
      "\n",
      "   TenYearCHD  \n",
      "0           0  \n",
      "1           0  \n",
      "2           0  \n",
      "3           1  \n",
      "4           0  \n",
      "Xtrain:       male  age  education  currentSmoker  cigsPerDay  BPMeds  \\\n",
      "3615     1   38        3.0              1        20.0     0.0   \n",
      "4041     0   56        2.0              0         0.0     0.0   \n",
      "2997     1   36        4.0              1        40.0     0.0   \n",
      "1607     1   44        2.0              0         0.0     0.0   \n",
      "2128     0   58        1.0              1        20.0     0.0   \n",
      "...    ...  ...        ...            ...         ...     ...   \n",
      "959      1   57        1.0              1        20.0     0.0   \n",
      "3798     1   43        2.0              0         0.0     0.0   \n",
      "1914     1   62        3.0              1        20.0     0.0   \n",
      "3036     0   34        2.0              0         0.0     0.0   \n",
      "3188     1   63        1.0              0         0.0     0.0   \n",
      "\n",
      "      prevalentStroke  prevalentHyp  diabetes  totChol  sysBP  diaBP    BMI  \\\n",
      "3615                0             0         0    270.0  120.0   75.0  23.76   \n",
      "4041                0             1         0    199.0  160.0  105.0  25.71   \n",
      "2997                0             0         0    200.0  103.0   67.5  30.82   \n",
      "1607                0             0         0    286.0  112.5   72.5  24.72   \n",
      "2128                0             0         0    225.0  146.0   77.0  24.60   \n",
      "...               ...           ...       ...      ...    ...    ...    ...   \n",
      "959                 0             1         0    262.0  131.5   92.0  28.30   \n",
      "3798                0             0         0    210.0  127.5   82.5  27.94   \n",
      "1914                0             0         0    300.0  108.0   73.0  20.87   \n",
      "3036                0             0         0    226.0  112.5   77.5  24.99   \n",
      "3188                0             1         0    190.0  148.0   90.0  27.13   \n",
      "\n",
      "      heartRate  glucose  \n",
      "3615       83.0     96.0  \n",
      "4041       75.0     83.0  \n",
      "2997       67.0     72.0  \n",
      "1607       85.0     76.0  \n",
      "2128       96.0     53.0  \n",
      "...         ...      ...  \n",
      "959        70.0     78.0  \n",
      "3798       78.0     80.0  \n",
      "1914       60.0     80.0  \n",
      "3036      100.0     72.0  \n",
      "3188       72.0     86.0  \n",
      "\n",
      "[1828 rows x 15 columns]\n",
      "\n",
      "Xtest:       male  age  education  currentSmoker  cigsPerDay  BPMeds  \\\n",
      "2013     1   52        4.0              1        15.0     0.0   \n",
      "3000     1   44        2.0              1        40.0     0.0   \n",
      "1151     0   38        2.0              0         0.0     0.0   \n",
      "3853     0   55        4.0              0         0.0     0.0   \n",
      "2453     1   58        3.0              0         0.0     0.0   \n",
      "...    ...  ...        ...            ...         ...     ...   \n",
      "3808     1   65        1.0              1         6.0     0.0   \n",
      "2249     0   56        3.0              0         0.0     0.0   \n",
      "4211     1   42        2.0              1        40.0     0.0   \n",
      "4067     1   42        2.0              1        30.0     0.0   \n",
      "3078     0   42        1.0              0         0.0     0.0   \n",
      "\n",
      "      prevalentStroke  prevalentHyp  diabetes  totChol  sysBP  diaBP    BMI  \\\n",
      "2013                0             0         0    190.0  118.0   80.0  24.47   \n",
      "3000                0             0         0    232.0  125.0   86.0  23.23   \n",
      "1151                0             0         0    239.0  128.0   84.5  33.49   \n",
      "3853                0             1         0    260.0  172.5  100.5  32.27   \n",
      "2453                0             0         0    189.0  136.0   86.0  23.97   \n",
      "...               ...           ...       ...      ...    ...    ...    ...   \n",
      "3808                0             1         0    238.0  146.0   86.0  29.47   \n",
      "2249                0             0         0    207.0  120.0   60.0  22.89   \n",
      "4211                0             0         0    245.0  105.0   70.0  22.41   \n",
      "4067                0             0         0    209.0  130.0   86.0  24.01   \n",
      "3078                0             0         0    245.0  117.5   90.0  22.65   \n",
      "\n",
      "      heartRate  glucose  \n",
      "2013       50.0     88.0  \n",
      "3000       72.0     80.0  \n",
      "1151       75.0     80.0  \n",
      "3853       58.0     72.0  \n",
      "2453       71.0     60.0  \n",
      "...         ...      ...  \n",
      "3808       75.0     66.0  \n",
      "2249       75.0     71.0  \n",
      "4211       65.0     69.0  \n",
      "4067       60.0     55.0  \n",
      "3078       85.0     96.0  \n",
      "\n",
      "[1828 rows x 15 columns]\n",
      "\n",
      "ytrain: 3615    0\n",
      "4041    0\n",
      "2997    0\n",
      "1607    0\n",
      "2128    0\n",
      "       ..\n",
      "959     0\n",
      "3798    0\n",
      "1914    0\n",
      "3036    0\n",
      "3188    0\n",
      "Name: TenYearCHD, Length: 1828, dtype: int64\n",
      "\n",
      "ytest: 2013    0\n",
      "3000    0\n",
      "1151    0\n",
      "3853    1\n",
      "2453    0\n",
      "       ..\n",
      "3808    0\n",
      "2249    0\n",
      "4211    0\n",
      "4067    0\n",
      "3078    0\n",
      "Name: TenYearCHD, Length: 1828, dtype: int64\n",
      "\n"
     ]
    },
    {
     "name": "stderr",
     "output_type": "stream",
     "text": [
      "/var/folders/r7/0466q4hd5kn0v88f66f9yhyc0000gn/T/ipykernel_51605/1095623997.py:5: FutureWarning: Setting an item of incompatible dtype is deprecated and will raise an error in a future version of pandas. Value 'F' has dtype incompatible with int64, please explicitly cast to a compatible dtype first.\n",
      "  x=df.loc[df['currentSmoker']==1, 'currentSmoker'] = 'F'\n"
     ]
    }
   ],
   "source": [
    "# Question 2 code here.\n",
    "\n",
    "# Don't use the \"TenYearCHD\" as a feature\n",
    "X = df.drop('TenYearCHD', axis='columns')\n",
    "print(df.head())\n",
    "y = df['TenYearCHD']\n",
    "# Splitting code here\n",
    "Xtrain, Xtest, ytrain, ytest = train_test_split(X,y,test_size=0.50,random_state=0)\n",
    "print(\"Xtrain: {}\\n\".format(Xtrain))\n",
    "print(\"Xtest: {}\\n\".format(Xtest))\n",
    "print(\"ytrain: {}\\n\".format(ytrain))\n",
    "print(\"ytest: {}\\n\".format(ytest))"
   ]
  },
  {
   "attachments": {},
   "cell_type": "markdown",
   "metadata": {},
   "source": [
    "## Question 3: /5 pts\n",
    "\n",
    "Read the documentation for [sklearn's `LogisticRegression`](https://scikit-learn.org/stable/modules/generated/sklearn.linear_model.LogisticRegression.html).  In no more than 2 sentences per bullet point, answer the following in your own words.\n",
    "\n",
    "* Does `LogisticRegression` use a penalty by default?  If yes, what penalty?\n",
    "\n",
    "Yes it does, it uses the L2 or \"Ridge\" penalty by default.\n",
    "\n",
    "* If we apply a penalty during learning, what difference do you expect to see in the resulting coefficients, relative to not applying a penalty during learning?\n",
    "\n",
    "If we apply a penalty I expect to see much lower resulting coefficients, coming much closer to zero than without a penalty. Additionally, I do not expect to see model overfitting as this regularization attempts to balance coefficients so none of the features are eliminated. \n",
    "\n",
    "* If using the default settings of `LogisticRegression` in `sklearn`, should you include a column of 1s in your feature/design matrix? Briefly explain why or why not.\n",
    "\n",
    "No, I should not because LogisticRegression in sklearn already adds an intercept term (a column of ones) to the data by default as the fit_intercept parameter is true by default."
   ]
  },
  {
   "cell_type": "markdown",
   "metadata": {},
   "source": [
    "## Question 4: /15 pts\n",
    "\n",
    "Create a instance of sklearn's `LogisticRegression` object for unpenalized logistic regression. Note: If you get a warning about convergence of `coef_`, try increasing the `max_iter` parameter.\n",
    "\n",
    "Using this object, **run a logisitic regression analysis** of `TenYearCHD` (y-variable) against `totChol` (x-variable) using your training data. \n",
    "\n",
    "Then **make a plot with three main components based on the analysis**:\n",
    "1. Scatter-plot of `totChol` and `TenYearCHD` on your test data\n",
    "2. A curve showing the prediction (0 or 1, using `predict` - this curve will jump between 0 and 1) as a function of `totChol`\n",
    "3. A curve showing the predicted probability of a positive outcome (using `predict_proba`) as a function of `totChol`. Note that `predict_proba` will return both p(Outcome=0) and p(Outcome=1) in an array."
   ]
  },
  {
   "cell_type": "code",
   "execution_count": 22,
   "metadata": {},
   "outputs": [
    {
     "name": "stdout",
     "output_type": "stream",
     "text": [
      "(3656,)\n",
      "(3656,)\n",
      "(1828,)\n",
      "(1828,)\n",
      "(1828,)\n"
     ]
    },
    {
     "data": {
      "text/plain": [
       "<Axes: xlabel='totChol'>"
      ]
     },
     "execution_count": 22,
     "metadata": {},
     "output_type": "execute_result"
    },
    {
     "data": {
      "image/png": "[encoded data removed]",
      "text/plain": [
       "<Figure size 640x480 with 1 Axes>"
      ]
     },
     "metadata": {},
     "output_type": "display_data"
    }
   ],
   "source": [
    "# Question 4 code here.\n",
    "# Assign appropriate values to xscater, yscatter (x and y coordinates for scatter plot)\n",
    "xscatter = df['totChol'].to_numpy()\n",
    "print(xscatter.shape)\n",
    "yscatter = df['TenYearCHD'].to_numpy()\n",
    "print(yscatter.shape)\n",
    "\n",
    "lrInstance = LogisticRegression(penalty=None)\n",
    "lrInstance.fit(Xtrain[['totChol']],ytrain)\n",
    "\n",
    "# xline (x coordinates for plot of prediction)\n",
    "xline = Xtest['totChol']\n",
    "print(xline.shape)\n",
    "\n",
    "# yline_label (y coordinates for plot of predicted label)\n",
    "yline_label = lrInstance.predict(Xtest[['totChol']])\n",
    "print(yline_label.shape)\n",
    "\n",
    "# yline_prob (y coordinates for plot of predicted probability)\n",
    "yline_prob = lrInstance.predict_proba(Xtest[['totChol']])[:,1]\n",
    "print(yline_prob.shape)\n",
    "\n",
    "# Plotting code provided\n",
    "# xscatter, yscatter, xline, yline1, yline2 must all be 1D arrays\n",
    "ax = sns.scatterplot(x=xscatter,y=yscatter,alpha=0.2) #Plot data\n",
    "sns.lineplot(x=xline,y=yline_label) # Plot line indicating label\n",
    "sns.lineplot(x=xline,y=yline_prob) # Plot line indicating probability"
   ]
  },
  {
   "attachments": {},
   "cell_type": "markdown",
   "metadata": {},
   "source": [
    "## Question 5: 15 pts\n",
    "\n",
    "Compute the label-based criteria we discussed in the Lesson for your totChol-only classifier **using the test data**. Use a threshold of 0.5. Answer the questions in this text box below.\n",
    "\n",
    "* How many of the test instances are labeled positive by your classifier?\n",
    "\n",
    "TP + FP = 1 + 0 = 1\n",
    "\n",
    "* Choose one of the positively-labeled test instances, and explain why the classifier labeled it positive.\n",
    "\n",
    "It may be a false positive.\n",
    "\n",
    "* Is this classifier useful for finding specific individuals who will develop CHD? Explain in one or two sentences.\n",
    "\n",
    "Yes, it is somewhat useful because the accuracy threshold given was 0.5 and the accuracy of the classifier is 0.842. However, while precision and specificity are high, sensitivity is extremely low, which means the classifier is not that good."
   ]
  },
  {
   "cell_type": "code",
   "execution_count": 29,
   "metadata": {},
   "outputs": [
    {
     "name": "stdout",
     "output_type": "stream",
     "text": [
      "(1828, 2)\n",
      "tp: 1 tn: 1538 fp: 0 fn: 289\n",
      "Accuracy: 0.842 Recall: 0.003 Precision: 1.0 Sensitivity: 0.003 Specificity: 1.0\n",
      "\n"
     ]
    },
    {
     "name": "stderr",
     "output_type": "stream",
     "text": [
      "/Library/Frameworks/Python.framework/Versions/3.12/lib/python3.12/site-packages/sklearn/base.py:493: UserWarning: X does not have valid feature names, but LogisticRegression was fitted with feature names\n",
      "  warnings.warn(\n"
     ]
    }
   ],
   "source": [
    "# Calculate performance measures from scratch - provided function\n",
    "# TP: true postives \n",
    "# TN: true negatives \n",
    "# FP: False positives \n",
    "# FN: False negatives\n",
    "def compute_performance(yhat, y, classes):\n",
    "    # First, get tp, tn, fp, fn\n",
    "    tp = sum(np.logical_and(yhat == classes[1], y == classes[1]))\n",
    "    tn = sum(np.logical_and(yhat == classes[0], y == classes[0]))\n",
    "    fp = sum(np.logical_and(yhat == classes[1], y == classes[0]))\n",
    "    fn = sum(np.logical_and(yhat == classes[0], y == classes[1]))\n",
    "\n",
    "    print(f\"tp: {tp} tn: {tn} fp: {fp} fn: {fn}\")\n",
    "    \n",
    "    # Accuracy\n",
    "    acc = (tp + tn) / (tp + tn + fp + fn)\n",
    "    \n",
    "    # Precision\n",
    "    # \"Of the ones I labeled +, how many are actually +?\"\n",
    "    precision = tp / (tp + fp)\n",
    "    \n",
    "    # Recall\n",
    "    # \"Of all the + in the data, how many do I correctly label?\"\n",
    "    recall = tp / (tp + fn)    \n",
    "    \n",
    "    # Sensitivity\n",
    "    # \"Of all the + in the data, how many do I correctly label?\"\n",
    "    sensitivity = recall\n",
    "    \n",
    "    # Specificity\n",
    "    # \"Of all the - in the data, how many do I correctly label?\"\n",
    "    specificity = tn / (fp + tn)\n",
    "    \n",
    "    # Print results\n",
    "    \n",
    "    print(\"Accuracy:\",round(acc,3),\"Recall:\",round(recall,3),\"Precision:\",round(precision,3),\n",
    "          \"Sensitivity:\",round(sensitivity,3),\"Specificity:\",round(specificity,3))\n",
    "\n",
    "## Put code here to compute criteria:\n",
    "ynp = lrInstance.predict_proba(Xtest['totChol'].to_numpy().reshape(-1,1))\n",
    "print(ynp.shape)\n",
    "Ynp = np.where(ynp[:, 1] > 0.5, 1, 0)\n",
    "ytnp = ytest.to_numpy()\n",
    "\n",
    "cnp = compute_performance(Ynp, ytnp, classes = [0,1])\n",
    "print()\n",
    "\n",
    "## Put code here to compute whatever else you might need to answer the question.\n",
    "\n",
    "\n"
   ]
  },
  {
   "cell_type": "markdown",
   "metadata": {},
   "source": [
    "## Question 6: /10 pts\n",
    "Now fit a logistic regression model to the training data and include all the variables in the data frame (except for `TenYearCHD`) in the cell below. You will want to make a new object like you did for the simpler model. Answer the following question.\n",
    "\n",
    "* According to this more complex model, are larger or smaller Age more strongly associated with CHD, if all other variables are held equal?\n",
    "\n",
    "**YOUR ANSWER HERE:**"
   ]
  },
  {
   "cell_type": "code",
   "execution_count": null,
   "metadata": {},
   "outputs": [
    {
     "name": "stdout",
     "output_type": "stream",
     "text": [
      "Intercept: [-8.81588099]\n",
      "Coefficients: [[ 4.91411759e-01  6.29230984e-02 -1.52725574e-03  4.36925395e-02\n",
      "   1.70292499e-02  4.76047153e-01  8.27762634e-01  1.08694793e-01\n",
      "  -1.69305705e-01  2.03583571e-03  1.70961438e-02  1.00209804e-03\n",
      "   9.72231929e-05 -3.71817328e-03  8.48231480e-03]]\n"
     ]
    },
    {
     "name": "stderr",
     "output_type": "stream",
     "text": [
      "/Library/Frameworks/Python.framework/Versions/3.12/lib/python3.12/site-packages/sklearn/linear_model/_logistic.py:469: ConvergenceWarning: lbfgs failed to converge (status=1):\n",
      "STOP: TOTAL NO. of ITERATIONS REACHED LIMIT.\n",
      "\n",
      "Increase the number of iterations (max_iter) or scale the data as shown in:\n",
      "    https://scikit-learn.org/stable/modules/preprocessing.html\n",
      "Please also refer to the documentation for alternative solver options:\n",
      "    https://scikit-learn.org/stable/modules/linear_model.html#logistic-regression\n",
      "  n_iter_i = _check_optimize_result(\n"
     ]
    }
   ],
   "source": [
    "# Code for Question 6\n",
    "lrFit = LogisticRegression(penalty='l2', max_iter=1000)\n",
    "lrFit.fit(Xtrain,ytrain)\n",
    "\n",
    "print('Intercept: {}\\nCoefficients: {}'.format(lrFit.intercept_, lrFit.coef_))"
   ]
  },
  {
   "attachments": {},
   "cell_type": "markdown",
   "metadata": {},
   "source": [
    "## Question 7: /15 pts\n",
    "\n",
    "In the cell below, Compute the label-based criteria we discussed in the Lesson for new classifier using the test data. (You don't have to copy the function down into this cell; just call it again here.) Use a threshold of 0.5. Answer the questions in this text box below.\n",
    "\n",
    "* How many of the test instances are labeled positive by your classifier?\n",
    "\n",
    "TP + FP = 24 + 22 = 46\n",
    "\n",
    "* Is this classifier **better or worse than the amount-only classifier** for finding individuals likely to develop CHD? Explain in one or two sentences.*\n",
    "\n",
    "This classifier with the l2 penalty is better than the other with no penalty despite having similar metrics all around. However, there are many more true positives identified using this method.\n",
    "\n",
    "Accuracy: 0.842 Recall: 0.003 Precision: 1.0 Sensitivity: 0.003 Specificity: 1.0\n",
    "Accuracy: 0.842 Recall: 0.083 Precision: 0.522 Sensitivity: 0.083 Specificity: 0.986"
   ]
  },
  {
   "cell_type": "code",
   "execution_count": 33,
   "metadata": {},
   "outputs": [
    {
     "name": "stdout",
     "output_type": "stream",
     "text": [
      "tp: 24 tn: 1516 fp: 22 fn: 266\n",
      "Accuracy: 0.842 Recall: 0.083 Precision: 0.522 Sensitivity: 0.083 Specificity: 0.986\n",
      "\n"
     ]
    }
   ],
   "source": [
    "# Code for Question 7\n",
    "yp = lrFit.predict_proba(Xtest)\n",
    "Yp = np.where(yp[:, 1]>0.5, 1, 0)\n",
    "\n",
    "cp = compute_performance(Yp, ytnp, classes = [0,1])\n",
    "print()"
   ]
  },
  {
   "attachments": {},
   "cell_type": "markdown",
   "metadata": {},
   "source": [
    "# Question 8: /15 pts\n",
    "\n",
    "Plot ROC curves for both of your classifiers using the cells below, then answer the following questions, computing whatever quantities you need to answer them.\n",
    "\n",
    "* Which classifier has a higher estimated probability of correctly distinguishing between a positive and a negative instance? How do you know?\n",
    "\n",
    "The second model using the l2 penalty has a higher estimated probability of correctly distinguishing positive from negative because the AUROC curve of that model is closer to the upper left corner. This means that the closer it is to that corner, the better the true positive rate.\n",
    "\n",
    "* How could you explain a result where a logistic regression classifier produces an AUROC that is \"worse than random\", i.e. less than 0.5, even on its training set?\n",
    "\n",
    "An AUROC worse than random may be the result of incorrect labelling or probabilities being used in the calculation. "
   ]
  },
  {
   "cell_type": "code",
   "execution_count": 38,
   "metadata": {},
   "outputs": [
    {
     "name": "stdout",
     "output_type": "stream",
     "text": [
      "AUROC 1: 0.5730426886686696\n"
     ]
    },
    {
     "data": {
      "text/plain": [
       "Text(0.5, 1.0, 'ROC Curves (No Penalty Model)')"
      ]
     },
     "execution_count": 38,
     "metadata": {},
     "output_type": "execute_result"
    },
    {
     "data": {
      "image/png": "[encoded data removed]",
      "text/plain": [
       "<Figure size 640x480 with 1 Axes>"
      ]
     },
     "metadata": {},
     "output_type": "display_data"
    }
   ],
   "source": [
    "# ROC for totChol-only classifier\n",
    "fpr1, tpr1, thresh = roc_curve(ytest,ynp[:,1])\n",
    "roc_auc1 = auc(fpr1, tpr1)\n",
    "print(f\"AUROC 1: {roc_auc1}\")\n",
    "plt.plot(fpr1, tpr1, color='blue')\n",
    "plt.xlabel('False Positive Rate')\n",
    "plt.ylabel('True Positive Rate')\n",
    "plt.title('ROC Curves (No Penalty Model)')"
   ]
  },
  {
   "cell_type": "code",
   "execution_count": 39,
   "metadata": {},
   "outputs": [
    {
     "name": "stdout",
     "output_type": "stream",
     "text": [
      "AUROC 2: 0.7375835164342407\n"
     ]
    },
    {
     "data": {
      "text/plain": [
       "Text(0.5, 1.0, 'ROC Curves (L2 Penalty Model)')"
      ]
     },
     "execution_count": 39,
     "metadata": {},
     "output_type": "execute_result"
    },
    {
     "data": {
      "image/png": "[encoded data removed]",
      "text/plain": [
       "<Figure size 640x480 with 1 Axes>"
      ]
     },
     "metadata": {},
     "output_type": "display_data"
    }
   ],
   "source": [
    "# ROC for all-variable classifier\n",
    "fpr2, tpr2, thresh = roc_curve(ytest,yp[:,1])\n",
    "roc_auc2 = auc(fpr2, tpr2)\n",
    "print(f\"AUROC 2: {roc_auc2}\")\n",
    "plt.plot(fpr2, tpr2, color='blue')\n",
    "plt.xlabel('False Positive Rate')\n",
    "plt.ylabel('True Positive Rate')\n",
    "plt.title('ROC Curves (L2 Penalty Model)')"
   ]
  },
  {
   "attachments": {},
   "cell_type": "markdown",
   "metadata": {},
   "source": [
    "# Question 9: /15 pts\n",
    "\n",
    "Plot precision-recall curves for both of your classifiers using the cell below. Be sure to label your axes.\n",
    "\n",
    "* Which classifier is preferable if we want to recover at least 20% of future CHD cases?\n",
    "\n",
    "*The model with all variables has a precision of about 0.4 at 0.2 recall, and the amount-only classifier has precision almost 0.2 at 0.2 recall, so the model with all variables is preferable.*\n"
   ]
  },
  {
   "cell_type": "code",
   "execution_count": 44,
   "metadata": {},
   "outputs": [
    {
     "name": "stdout",
     "output_type": "stream",
     "text": [
      "AUPRC 1: 0.20524608978628822\n"
     ]
    },
    {
     "data": {
      "text/plain": [
       "Text(0.5, 1.0, 'PRC Curves (No Penalty Model)')"
      ]
     },
     "execution_count": 44,
     "metadata": {},
     "output_type": "execute_result"
    },
    {
     "data": {
      "image/png": "[encoded data removed]",
      "text/plain": [
       "<Figure size 640x480 with 1 Axes>"
      ]
     },
     "metadata": {},
     "output_type": "display_data"
    }
   ],
   "source": [
    "# PRC for totChol-only classifier\n",
    "pre1, rec1, thresh = precision_recall_curve(ytest,ynp[:,1])\n",
    "auprc1 = auc(rec1, pre1)\n",
    "print(f\"AUPRC 1: {auprc1}\")\n",
    "plt.plot(rec1, pre1, color='blue')\n",
    "plt.xlabel('Recall')\n",
    "plt.ylabel('Precision')\n",
    "plt.title('PRC Curves (No Penalty Model)')"
   ]
  },
  {
   "cell_type": "code",
   "execution_count": 46,
   "metadata": {},
   "outputs": [
    {
     "name": "stdout",
     "output_type": "stream",
     "text": [
      "AUPRC 2: 0.35519127323855243\n"
     ]
    },
    {
     "data": {
      "text/plain": [
       "Text(0.5, 1.0, 'PRC Curves (L2 Penalty Model)')"
      ]
     },
     "execution_count": 46,
     "metadata": {},
     "output_type": "execute_result"
    },
    {
     "data": {
      "image/png": "[encoded data removed]",
      "text/plain": [
       "<Figure size 640x480 with 1 Axes>"
      ]
     },
     "metadata": {},
     "output_type": "display_data"
    }
   ],
   "source": [
    "# PRC for all-variable classifier\n",
    "pre2, rec2, thresh = precision_recall_curve(ytest,yp[:,1])\n",
    "auprc2 = auc(rec2, pre2)\n",
    "print(f\"AUPRC 2: {auprc2}\")\n",
    "plt.plot(rec2, pre2, color='blue')\n",
    "plt.xlabel('Recall')\n",
    "plt.ylabel('Precision')\n",
    "plt.title('PRC Curves (L2 Penalty Model)')"
   ]
  }
 ],
 "metadata": {
  "kernelspec": {
   "display_name": "Python 3",
   "language": "python",
   "name": "python3"
  },
  "language_info": {
   "codemirror_mode": {
    "name": "ipython",
    "version": 3
   },
   "file_extension": ".py",
   "mimetype": "text/x-python",
   "name": "python",
   "nbconvert_exporter": "python",
   "pygments_lexer": "ipython3",
   "version": "3.12.6"
  },
  "vscode": {
   "interpreter": {
    "hash": "aee8b7b246df8f9039afb4144a1f6fd8d2ca17a180786b69acc140d282b71a49"
   }
  }
 },
 "nbformat": 4,
 "nbformat_minor": 4
}
